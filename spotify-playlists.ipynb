{
 "cells": [
  {
   "cell_type": "markdown",
   "metadata": {},
   "source": [
    "# Download information from Spotify"
   ]
  },
  {
   "cell_type": "markdown",
   "metadata": {},
   "source": [
    "## Get credentials from Spotify API\n",
    "\n",
    "Go to your Spotify Dashboard at https://developer.spotify.com/dashboard/ and create a new application, then grab the Client ID and Client Secret Key."
   ]
  },
  {
   "cell_type": "code",
   "execution_count": 1,
   "metadata": {},
   "outputs": [],
   "source": [
    "import math \n",
    "from pathlib import Path\n",
    "import spotipy\n",
    "from spotipy.oauth2 import SpotifyOAuth"
   ]
  },
  {
   "cell_type": "code",
   "execution_count": 2,
   "metadata": {},
   "outputs": [],
   "source": [
    "client_id = Path(\"./client_id\").read_text()\n",
    "client_secret = Path(\"./client_secret\").read_text()\n",
    "\n",
    "# Add this on \"Edit Settings\" in Dashboard\n",
    "redirect_uri = \"http://localhost:9050\""
   ]
  },
  {
   "cell_type": "code",
   "execution_count": 4,
   "metadata": {},
   "outputs": [],
   "source": [
    "scope = \"user-library-read\"\n",
    "\n",
    "sp = spotipy.Spotify(\n",
    "    auth_manager=SpotifyOAuth(\n",
    "        scope=scope,\n",
    "        client_id=client_id,\n",
    "        client_secret=client_secret,\n",
    "        redirect_uri=redirect_uri\n",
    "    )\n",
    ")"
   ]
  },
  {
   "cell_type": "markdown",
   "metadata": {},
   "source": [
    "## Grab from my liked songs"
   ]
  },
  {
   "cell_type": "code",
   "execution_count": 7,
   "metadata": {},
   "outputs": [
    {
     "data": {
      "text/plain": [
       "dict_keys(['href', 'items', 'limit', 'next', 'offset', 'previous', 'total'])"
      ]
     },
     "execution_count": 7,
     "metadata": {},
     "output_type": "execute_result"
    }
   ],
   "source": [
    "sp.current_user_saved_tracks().keys()"
   ]
  },
  {
   "cell_type": "code",
   "execution_count": 13,
   "metadata": {},
   "outputs": [],
   "source": [
    "loops = math.ceil(sp.current_user_saved_tracks()[\"total\"] / 50)\n",
    "\n",
    "with open('spotify-saved-tracks.txt', mode='w') as file_object:\n",
    "\n",
    "    for i in range(loops):\n",
    "\n",
    "        offset = i * 50\n",
    "\n",
    "        results = sp.current_user_saved_tracks(\n",
    "            limit=50,\n",
    "            offset=offset\n",
    "        )\n",
    "\n",
    "        for idx, item in enumerate(results['items']):\n",
    "            track_id = item['track']\n",
    "            track_name = track_id['name']\n",
    "            \n",
    "            # This assumes one artist name, but its a list for collabs\n",
    "            artist_name = track_id['artists'][0]['name']\n",
    "\n",
    "            print(f\"{idx + offset}.) {track_name} by {artist_name}\", file=file_object)"
   ]
  },
  {
   "cell_type": "markdown",
   "metadata": {},
   "source": [
    "## Playlist tracks"
   ]
  },
  {
   "cell_type": "code",
   "execution_count": 16,
   "metadata": {},
   "outputs": [],
   "source": [
    "results = sp.current_user_playlists()\n",
    "\n",
    "with open('spotify-playlist-tracks.txt', mode='w') as file_object:\n",
    "\n",
    "    for item in results['items']:\n",
    "        playlist_name = item['name']\n",
    "        playlist_id = item['id']\n",
    "        playlist_song_count = item['tracks']['total']\n",
    "\n",
    "        loops = math.ceil(playlist_song_count / 50)\n",
    "\n",
    "        for i in range(loops):\n",
    "\n",
    "            offset = i * 50\n",
    "\n",
    "            results = sp.playlist_tracks(\n",
    "                playlist_id=playlist_id,\n",
    "                limit=50,\n",
    "                offset=offset\n",
    "            )\n",
    "\n",
    "            print(f\"{playlist_name}\", file=file_object)\n",
    "\n",
    "            for idx, item in enumerate(results['items']):\n",
    "                track_id = item['track']\n",
    "                track_name = track_id['name']\n",
    "                \n",
    "                # This assumes one artist name, but its a list for collabs\n",
    "                artist_name = track_id['artists'][0]['name']\n",
    "\n",
    "                print(f\"\\t{idx + offset}.) {track_name} by {artist_name}\", file=file_object)"
   ]
  },
  {
   "cell_type": "code",
   "execution_count": null,
   "metadata": {},
   "outputs": [],
   "source": [
    "with open('lofi-chill.txt', mode='w') as file_object:\n",
    "\n",
    "    playlist_id = '37i9dQZF1DWYoYGBbGKurt'\n",
    "\n",
    "    loops = math.ceil(sp.playlist_tracks(playlist_id)['total'] / 50)\n",
    "\n",
    "    for i in range(loops):\n",
    "\n",
    "        offset = i * 50\n",
    "\n",
    "        results = sp.playlist_tracks(\n",
    "            playlist_id=playlist_id,\n",
    "            limit=50,\n",
    "            offset=offset\n",
    "        )\n",
    "\n",
    "        print(f\"lofi-chill\", file=file_object)\n",
    "\n",
    "        for idx, item in enumerate(results['items']):\n",
    "            track_id = item['track']\n",
    "            track_name = track_id['name']\n",
    "            \n",
    "            # This assumes one artist name, but its a list for collabs\n",
    "            artist_name = track_id['artists'][0]['name']\n",
    "\n",
    "            print(f\"\\t{idx + offset}.) {track_name} by {artist_name}\", file=file_object)"
   ]
  },
  {
   "cell_type": "code",
   "execution_count": null,
   "metadata": {},
   "outputs": [],
   "source": []
  }
 ],
 "metadata": {
  "kernelspec": {
   "display_name": "Python 3.10.5 ('analytics')",
   "language": "python",
   "name": "python3"
  },
  "language_info": {
   "codemirror_mode": {
    "name": "ipython",
    "version": 3
   },
   "file_extension": ".py",
   "mimetype": "text/x-python",
   "name": "python",
   "nbconvert_exporter": "python",
   "pygments_lexer": "ipython3",
   "version": "3.10.5"
  },
  "orig_nbformat": 4,
  "vscode": {
   "interpreter": {
    "hash": "a73e237c70dc6273ebade990cacb03bb52d0fc105aae17222d1478a00d79ba59"
   }
  }
 },
 "nbformat": 4,
 "nbformat_minor": 2
}
